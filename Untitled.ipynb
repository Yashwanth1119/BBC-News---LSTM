{
 "cells": [
  {
   "cell_type": "markdown",
   "metadata": {},
   "source": [
    "### *BBC News (LSTM)*"
   ]
  },
  {
   "cell_type": "code",
   "execution_count": 2,
   "metadata": {},
   "outputs": [
    {
     "name": "stdout",
     "output_type": "stream",
     "text": [
      "2.6.2\n"
     ]
    }
   ],
   "source": [
    "import tensorflow as tf\n",
    "print(tf.__version__)"
   ]
  },
  {
   "cell_type": "code",
   "execution_count": 3,
   "metadata": {},
   "outputs": [
    {
     "name": "stdout",
     "output_type": "stream",
     "text": [
      "Requirement already satisfied: nltk in c:\\users\\asus\\anaconda3\\lib\\site-packages (3.4.5)\n",
      "Requirement already satisfied: six in c:\\users\\asus\\anaconda3\\lib\\site-packages (from nltk) (1.12.0)\n"
     ]
    },
    {
     "name": "stderr",
     "output_type": "stream",
     "text": [
      "WARNING: You are using pip version 21.2.4; however, version 22.3 is available.\n",
      "You should consider upgrading via the 'c:\\users\\asus\\anaconda3\\python.exe -m pip install --upgrade pip' command.\n"
     ]
    }
   ],
   "source": [
    "!pip install nltk"
   ]
  },
  {
   "cell_type": "markdown",
   "metadata": {},
   "source": []
  },
  {
   "cell_type": "code",
   "execution_count": 4,
   "metadata": {},
   "outputs": [],
   "source": [
    "##  Put the hyparameters at the top like this to make it rasier to change and edit\n",
    "\n",
    "import csv\n",
    "import tensorflow as tf\n",
    "import numpy as np\n",
    "from tensorflow.keras.preprocessing.text import Tokenizer\n",
    "from tensorflow.keras.preprocessing.sequence import pad_sequences\n",
    "from nltk.corpus import stopwords\n",
    "STOPWORDS = set(stopwords.words('english'))"
   ]
  },
  {
   "cell_type": "code",
   "execution_count": 7,
   "metadata": {},
   "outputs": [],
   "source": [
    "## Setting the hyparameters at the top like this to make it easier to change and edit"
   ]
  },
  {
   "cell_type": "code",
   "execution_count": 5,
   "metadata": {},
   "outputs": [],
   "source": [
    "vocab_size = 5000\n",
    "embedding_dim = 64\n",
    "max_length = 200\n",
    "trunc_type = 'post'\n",
    "padding_type = 'post'\n",
    "oov_tok = '<OOV>'\n",
    "training_portion = .8"
   ]
  },
  {
   "cell_type": "code",
   "execution_count": 8,
   "metadata": {},
   "outputs": [],
   "source": [
    "## Defining two lists that containing articles and labels. In the meantime, we remove stopwords"
   ]
  },
  {
   "cell_type": "code",
   "execution_count": 6,
   "metadata": {},
   "outputs": [
    {
     "name": "stdout",
     "output_type": "stream",
     "text": [
      "2225\n",
      "2225\n"
     ]
    }
   ],
   "source": [
    "articles = []\n",
    "labels = []\n",
    "\n",
    "with open(\"bbc-text.csv\", 'r') as csvfile:\n",
    "    reader = csv.reader(csvfile, delimiter=',')\n",
    "    next(reader)\n",
    "    for row in reader:\n",
    "        labels.append(row[0])\n",
    "        article = row[1]\n",
    "        for word in STOPWORDS:\n",
    "            token = ' ' + word + ' '\n",
    "            article = article.replace(token, ' ')\n",
    "            article = article.replace(' ', ' ')\n",
    "        articles.append(article)\n",
    "print(len(labels))\n",
    "print(len(articles))"
   ]
  },
  {
   "cell_type": "code",
   "execution_count": 16,
   "metadata": {},
   "outputs": [
    {
     "name": "stdout",
     "output_type": "stream",
     "text": [
      "1780\n",
      "1780\n",
      "1780\n",
      "445\n",
      "445\n"
     ]
    }
   ],
   "source": [
    "## There are only 2225 articles in the data. Then we split into training set and validation set, according to the parameter we set earlier, 80% for training, 20% for validation \n",
    "\n",
    "train_size = int(len(articles) * training_portion)\n",
    "\n",
    "train_articles = articles[0: train_size]\n",
    "train_labels = labels[0: train_size]\n",
    "\n",
    "validation_articles = articles[train_size:]\n",
    "validation_labels = labels[train_size:]\n",
    "\n",
    "print(train_size)\n",
    "print(len(train_articles))\n",
    "print(len(train_labels))\n",
    "print(len(validation_articles))\n",
    "print(len(validation_labels))"
   ]
  },
  {
   "cell_type": "code",
   "execution_count": 17,
   "metadata": {},
   "outputs": [],
   "source": [
    "## Tokenizer does all the heavy lifting for us. In our articles that it was tokenizing,\n",
    "## it will take 5,000 most common words. oov_token is to put a special value in when an unseen word is encountered. \n",
    "## This means I want \"OOV\" in bracket to be used to for words that are not in the word index. \"fit_on_text\" will go through all the text and create dictionary like this\n",
    "\n",
    "tokenizer = Tokenizer(num_words = vocab_size, oov_token=oov_tok)\n",
    "tokenizer.fit_on_texts(train_articles)\n",
    "word_index = tokenizer.word_index"
   ]
  },
  {
   "cell_type": "code",
   "execution_count": 18,
   "metadata": {},
   "outputs": [
    {
     "data": {
      "text/plain": [
       "{'<OOV>': 1,\n",
       " 'said': 2,\n",
       " 'mr': 3,\n",
       " 'would': 4,\n",
       " 'year': 5,\n",
       " 'also': 6,\n",
       " 'people': 7,\n",
       " 'new': 8,\n",
       " 'us': 9,\n",
       " 'one': 10}"
      ]
     },
     "execution_count": 18,
     "metadata": {},
     "output_type": "execute_result"
    }
   ],
   "source": [
    "## Here we have \"OOV\" in bracket is number 1, \"said\" is number 2, \"mr\" is number 3, and so on\n",
    "\n",
    "dict(list(word_index.items())[0:10])"
   ]
  },
  {
   "cell_type": "code",
   "execution_count": 19,
   "metadata": {},
   "outputs": [],
   "source": [
    "## In the above process cleans up our text, lowercase, & remove punctutaions"
   ]
  },
  {
   "cell_type": "code",
   "execution_count": 20,
   "metadata": {},
   "outputs": [],
   "source": [
    "## after tokenization, the next step is to turn thoes tokens into lists of sequence\n",
    "\n",
    "train_sequences = tokenizer.texts_to_sequences(train_articles)"
   ]
  },
  {
   "cell_type": "code",
   "execution_count": 21,
   "metadata": {},
   "outputs": [],
   "source": [
    "# here in the above it is the 11th article in the training data that has been turned into sequences"
   ]
  },
  {
   "cell_type": "code",
   "execution_count": 22,
   "metadata": {},
   "outputs": [
    {
     "name": "stdout",
     "output_type": "stream",
     "text": [
      "[2432, 1, 225, 4996, 22, 642, 587, 225, 4996, 1, 1, 1663, 1, 1, 2432, 22, 565, 1, 1, 140, 278, 1, 140, 278, 796, 823, 662, 2308, 1, 1144, 1694, 1, 1721, 4997, 1, 1, 1, 1, 1, 4738, 1, 1, 122, 4514, 1, 2, 2875, 1506, 352, 4739, 1, 52, 341, 1, 352, 2174, 3961, 41, 22, 3794, 1, 1, 1, 1, 542, 1, 1, 1, 835, 631, 2367, 347, 4740, 1, 365, 22, 1, 787, 2368, 1, 4302, 138, 10, 1, 3664, 682, 3531, 1, 22, 1, 414, 823, 662, 1, 90, 13, 633, 1, 225, 4996, 1, 600, 1, 1694, 1021, 1, 4998, 807, 1865, 117, 1, 1, 1, 2975, 22, 1, 99, 278, 1, 1607, 4999, 542, 492, 1, 1444, 4741, 778, 1320, 1, 1862, 10, 33, 642, 319, 1, 62, 478, 565, 301, 1507, 22, 479, 1, 1, 1666, 1, 797, 1, 3067, 1, 1365, 6, 1, 2432, 565, 22, 2972, 4735, 1, 1, 1, 1, 1, 850, 39, 1825, 675, 297, 26, 979, 1, 882, 22, 361, 22, 13, 301, 1507, 1343, 374, 20, 63, 883, 1096, 4303, 247]\n"
     ]
    }
   ],
   "source": [
    "print(train_sequences[10])"
   ]
  },
  {
   "cell_type": "code",
   "execution_count": 26,
   "metadata": {},
   "outputs": [],
   "source": [
    "## we need sequences to be in the same size, \n",
    "## that's why we use padding. Our max_length is 200, \n",
    "## so we use pad_sequences to make all of our articles the same length which is 200 in my example. \n",
    "## That's why you see that the 1st article was 426 in length, becomes 200, the 2nd article was 192 in length, \n",
    "## becomes 200, and so on.\n",
    "\n",
    "train_padded = pad_sequences(train_sequences, maxlen=max_length, padding=padding_type, truncating=trunc_type)"
   ]
  },
  {
   "cell_type": "code",
   "execution_count": 27,
   "metadata": {},
   "outputs": [
    {
     "name": "stdout",
     "output_type": "stream",
     "text": [
      "425\n",
      "200\n",
      "192\n",
      "200\n",
      "186\n",
      "200\n"
     ]
    }
   ],
   "source": [
    "print(len(train_sequences[0]))\n",
    "print(len(train_padded[0]))\n",
    "      \n",
    "print(len(train_sequences[1]))\n",
    "print(len(train_padded[1]))\n",
    "\n",
    "print(len(train_sequences[10]))\n",
    "print(len(train_padded[10]))"
   ]
  },
  {
   "cell_type": "code",
   "execution_count": 28,
   "metadata": {},
   "outputs": [],
   "source": [
    "## Here the 11th article, it was 186 in length, we padded to 200, and \n",
    "## we padded at the end, add 14 zeros"
   ]
  },
  {
   "cell_type": "code",
   "execution_count": 29,
   "metadata": {},
   "outputs": [
    {
     "name": "stdout",
     "output_type": "stream",
     "text": [
      "[2432, 1, 225, 4996, 22, 642, 587, 225, 4996, 1, 1, 1663, 1, 1, 2432, 22, 565, 1, 1, 140, 278, 1, 140, 278, 796, 823, 662, 2308, 1, 1144, 1694, 1, 1721, 4997, 1, 1, 1, 1, 1, 4738, 1, 1, 122, 4514, 1, 2, 2875, 1506, 352, 4739, 1, 52, 341, 1, 352, 2174, 3961, 41, 22, 3794, 1, 1, 1, 1, 542, 1, 1, 1, 835, 631, 2367, 347, 4740, 1, 365, 22, 1, 787, 2368, 1, 4302, 138, 10, 1, 3664, 682, 3531, 1, 22, 1, 414, 823, 662, 1, 90, 13, 633, 1, 225, 4996, 1, 600, 1, 1694, 1021, 1, 4998, 807, 1865, 117, 1, 1, 1, 2975, 22, 1, 99, 278, 1, 1607, 4999, 542, 492, 1, 1444, 4741, 778, 1320, 1, 1862, 10, 33, 642, 319, 1, 62, 478, 565, 301, 1507, 22, 479, 1, 1, 1666, 1, 797, 1, 3067, 1, 1365, 6, 1, 2432, 565, 22, 2972, 4735, 1, 1, 1, 1, 1, 850, 39, 1825, 675, 297, 26, 979, 1, 882, 22, 361, 22, 13, 301, 1507, 1343, 374, 20, 63, 883, 1096, 4303, 247]\n"
     ]
    }
   ],
   "source": [
    "print(train_sequences[10])"
   ]
  },
  {
   "cell_type": "code",
   "execution_count": 30,
   "metadata": {},
   "outputs": [
    {
     "name": "stdout",
     "output_type": "stream",
     "text": [
      "[2432    1  225 4996   22  642  587  225 4996    1    1 1663    1    1\n",
      " 2432   22  565    1    1  140  278    1  140  278  796  823  662 2308\n",
      "    1 1144 1694    1 1721 4997    1    1    1    1    1 4738    1    1\n",
      "  122 4514    1    2 2875 1506  352 4739    1   52  341    1  352 2174\n",
      " 3961   41   22 3794    1    1    1    1  542    1    1    1  835  631\n",
      " 2367  347 4740    1  365   22    1  787 2368    1 4302  138   10    1\n",
      " 3664  682 3531    1   22    1  414  823  662    1   90   13  633    1\n",
      "  225 4996    1  600    1 1694 1021    1 4998  807 1865  117    1    1\n",
      "    1 2975   22    1   99  278    1 1607 4999  542  492    1 1444 4741\n",
      "  778 1320    1 1862   10   33  642  319    1   62  478  565  301 1507\n",
      "   22  479    1    1 1666    1  797    1 3067    1 1365    6    1 2432\n",
      "  565   22 2972 4735    1    1    1    1    1  850   39 1825  675  297\n",
      "   26  979    1  882   22  361   22   13  301 1507 1343  374   20   63\n",
      "  883 1096 4303  247    0    0    0    0    0    0    0    0    0    0\n",
      "    0    0    0    0]\n"
     ]
    }
   ],
   "source": [
    "print(train_padded[10])"
   ]
  },
  {
   "cell_type": "code",
   "execution_count": 31,
   "metadata": {},
   "outputs": [
    {
     "name": "stdout",
     "output_type": "stream",
     "text": [
      "[91, 160, 1141, 1106, 49, 979, 755, 1, 89, 1303, 4289, 129, 175, 3653, 1214, 1194, 1577, 42, 7, 893, 91, 1, 334, 85, 20, 14, 130, 3262, 1215, 2422, 570, 451, 1376, 58, 3378, 3521, 1661, 8, 921, 730, 10, 844, 1, 9, 599, 1578, 1107, 395, 1941, 1106, 731, 49, 537, 1398, 2010, 1622, 134, 249, 113, 2356, 795, 4981, 980, 584, 10, 3956, 3957, 921, 2563, 129, 344, 175, 3653, 1, 1, 39, 62, 2868, 28, 9, 4723, 18, 1304, 136, 416, 7, 143, 1423, 71, 4501, 436, 4982, 91, 1107, 77, 1, 82, 2011, 53, 1, 91, 6, 1008, 591, 89, 1303, 91, 1963, 131, 137, 420, 9, 2869, 38, 152, 1233, 89, 1303, 4724, 7, 436, 4982, 3154, 6, 2493, 1, 431, 1126, 1, 1424, 571, 1234, 1903, 1, 766, 9, 537, 1398, 2010, 134, 2069, 400, 845, 1964, 1600, 34, 1717, 2870, 1, 1, 2423, 244, 9, 2625, 82, 732, 6, 1172, 1195, 152, 720, 592, 1, 124, 28, 1304, 1690, 432, 83, 933, 115, 20, 14, 18, 3155, 1, 37, 1484, 1, 23, 37, 87, 335, 2357, 37, 467, 255, 1964, 1359, 328, 1, 299, 732, 1173, 18, 2871, 1717, 1, 294, 756, 1074, 395, 2012, 387, 431, 2012, 2, 1360, 1, 1717, 2168, 67, 1, 1, 1718, 249, 1662, 3060, 1174, 395, 41, 878, 246, 2794, 345, 53, 547, 400, 2, 1, 1, 655, 1361, 203, 91, 3958, 91, 90, 42, 7, 320, 395, 77, 893, 1, 91, 1106, 400, 537, 9, 845, 2423, 11, 38, 1, 995, 513, 483, 2070, 160, 572, 1, 128, 7, 320, 77, 893, 1216, 1126, 1463, 346, 54, 2216, 1217, 741, 92, 256, 274, 1019, 71, 623, 346, 2424, 756, 1215, 2358, 1719, 1, 3782, 3522, 1, 1126, 2012, 177, 371, 1399, 77, 53, 547, 105, 1141, 3, 1, 1047, 93, 2963, 1, 2626, 1, 102, 902, 440, 452, 2, 3, 1, 2872, 451, 1425, 43, 77, 429, 31, 8, 1019, 921, 1, 2563, 30, 1, 91, 1691, 879, 89, 1303, 91, 1963, 1, 30, 8, 1623, 1, 1, 4290, 1579, 4289, 656, 1, 3783, 1008, 572, 4291, 2868, 10, 880, 656, 58, 1, 1261, 1, 1, 91, 1553, 934, 4723, 1, 578, 4106, 10, 9, 235, 2010, 91, 134, 1, 95, 656, 3263, 1, 58, 519, 673, 2627, 3783, 4983, 3379, 483, 4725, 39, 4501, 1, 91, 1748, 673, 269, 116, 239, 2628, 354, 644, 58, 4107, 757, 3654, 4723, 146, 1, 400, 7, 71, 1749, 1107, 767, 910, 118, 584, 3380, 1316, 1578, 1, 1601, 7, 893, 77, 77]\n"
     ]
    }
   ],
   "source": [
    "print(train_sequences[0])"
   ]
  },
  {
   "cell_type": "code",
   "execution_count": 32,
   "metadata": {},
   "outputs": [
    {
     "name": "stdout",
     "output_type": "stream",
     "text": [
      "[  91  160 1141 1106   49  979  755    1   89 1303 4289  129  175 3653\n",
      " 1214 1194 1577   42    7  893   91    1  334   85   20   14  130 3262\n",
      " 1215 2422  570  451 1376   58 3378 3521 1661    8  921  730   10  844\n",
      "    1    9  599 1578 1107  395 1941 1106  731   49  537 1398 2010 1622\n",
      "  134  249  113 2356  795 4981  980  584   10 3956 3957  921 2563  129\n",
      "  344  175 3653    1    1   39   62 2868   28    9 4723   18 1304  136\n",
      "  416    7  143 1423   71 4501  436 4982   91 1107   77    1   82 2011\n",
      "   53    1   91    6 1008  591   89 1303   91 1963  131  137  420    9\n",
      " 2869   38  152 1233   89 1303 4724    7  436 4982 3154    6 2493    1\n",
      "  431 1126    1 1424  571 1234 1903    1  766    9  537 1398 2010  134\n",
      " 2069  400  845 1964 1600   34 1717 2870    1    1 2423  244    9 2625\n",
      "   82  732    6 1172 1195  152  720  592    1  124   28 1304 1690  432\n",
      "   83  933  115   20   14   18 3155    1   37 1484    1   23   37   87\n",
      "  335 2357   37  467  255 1964 1359  328    1  299  732 1173   18 2871\n",
      " 1717    1  294  756]\n"
     ]
    }
   ],
   "source": [
    "print(train_padded[0])"
   ]
  },
  {
   "cell_type": "code",
   "execution_count": 33,
   "metadata": {},
   "outputs": [
    {
     "name": "stdout",
     "output_type": "stream",
     "text": [
      "445\n",
      "(445, 200)\n"
     ]
    }
   ],
   "source": [
    "validation_sequences = tokenizer.texts_to_sequences(validation_articles)\n",
    "validation_padded = pad_sequences(validation_sequences, maxlen=max_length,padding=padding_type, truncating=trunc_type)\n",
    "\n",
    "print(len(validation_sequences))\n",
    "print(validation_padded.shape)"
   ]
  },
  {
   "cell_type": "code",
   "execution_count": 34,
   "metadata": {},
   "outputs": [
    {
     "name": "stdout",
     "output_type": "stream",
     "text": [
      "{'tech', 'business', 'entertainment', 'sport', 'politics'}\n"
     ]
    }
   ],
   "source": [
    "print(set(labels))"
   ]
  },
  {
   "cell_type": "code",
   "execution_count": 35,
   "metadata": {},
   "outputs": [],
   "source": [
    "label_tokenizer = Tokenizer()\n",
    "label_tokenizer.fit_on_texts(labels)\n",
    "\n",
    "training_label_seq = np.array(label_tokenizer.texts_to_sequences(train_labels))\n",
    "validation_label_seq = np.array(label_tokenizer.texts_to_sequences(validation_labels))"
   ]
  },
  {
   "cell_type": "code",
   "execution_count": 36,
   "metadata": {},
   "outputs": [
    {
     "name": "stdout",
     "output_type": "stream",
     "text": [
      "[4]\n",
      "[2]\n",
      "[1]\n",
      "(1780, 1)\n",
      "[5]\n",
      "[4]\n",
      "[3]\n",
      "(445, 1)\n"
     ]
    }
   ],
   "source": [
    "print(training_label_seq[0])\n",
    "print(training_label_seq[1])\n",
    "print(training_label_seq[2])\n",
    "print(training_label_seq.shape)\n",
    "\n",
    "print(validation_label_seq[0])\n",
    "print(validation_label_seq[1])\n",
    "print(validation_label_seq[2])\n",
    "print(validation_label_seq.shape)"
   ]
  },
  {
   "cell_type": "code",
   "execution_count": 38,
   "metadata": {},
   "outputs": [
    {
     "name": "stdout",
     "output_type": "stream",
     "text": [
      "berlin <OOV> anti nazi film german movie anti nazi <OOV> <OOV> drawn <OOV> <OOV> berlin film festival <OOV> <OOV> final days <OOV> final days member white rose movement <OOV> 21 arrested <OOV> brother hans <OOV> <OOV> <OOV> <OOV> <OOV> tyranny <OOV> <OOV> director marc <OOV> said feeling responsibility keep legacy <OOV> going must <OOV> keep ideas alive added film drew <OOV> <OOV> <OOV> <OOV> trial <OOV> <OOV> <OOV> east germany secret police discovery <OOV> behind film <OOV> worked closely <OOV> relatives including one <OOV> sisters ensure historical <OOV> film <OOV> members white rose <OOV> group first started <OOV> anti nazi <OOV> summer <OOV> arrested dropped <OOV> munich university calling day <OOV> <OOV> <OOV> regime film <OOV> six days <OOV> arrest intense trial saw <OOV> initially deny charges ended <OOV> appearance one three german films <OOV> top prize festival south african film version <OOV> <OOV> opera <OOV> shot <OOV> town <OOV> language also <OOV> berlin festival film entitled u <OOV> <OOV> <OOV> <OOV> <OOV> story set performed 40 strong music theatre <OOV> debut film performance film first south african feature 25 years second nominated golden bear award ? ? ? ? ? ? ? ? ? ? ? ? ? ?\n",
      "---\n",
      "berlin cheers anti-nazi film german movie anti-nazi resistance heroine drawn loud applause berlin film festival.  sophie scholl - final days portrays final days member white rose movement. scholl  21  arrested beheaded brother  hans  1943 distributing leaflets condemning  abhorrent tyranny  adolf hitler. director marc rothemund said:  feeling responsibility keep legacy scholls going.   must somehow keep ideas alive   added.  film drew transcripts gestapo interrogations scholl trial preserved archive communist east germany secret police. discovery inspiration behind film rothemund  worked closely surviving relatives  including one scholl sisters  ensure historical accuracy film. scholl members white rose resistance group first started distributing anti-nazi leaflets summer 1942. arrested dropped leaflets munich university calling  day reckoning  adolf hitler regime. film focuses six days scholl arrest intense trial saw scholl initially deny charges ended defiant appearance. one three german films vying top prize festival.  south african film version bizet tragic opera carmen shot cape town xhosa language also premiered berlin festival. film entitled u-carmen ekhayelitsha carmen khayelitsha township story set. performed 40-strong music theatre troupe debut film performance. film first south african feature 25 years second nominated golden bear award.\n"
     ]
    }
   ],
   "source": [
    "## Before training deep neural network, we need to explore what our original article\n",
    "## after padding look, \n",
    "## we explore the 11th article, we can see that some words become \"OOV\",\n",
    "## because they did not make to the top 5000\n",
    "\n",
    "reverse_word_index = dict([(value, key) for (key,value) in word_index.items()])\n",
    "\n",
    "def decode_article(text):\n",
    "    return ' '.join([reverse_word_index.get(i, '?') for i in text])\n",
    "print(decode_article(train_padded[10]))\n",
    "print('---')\n",
    "print(train_articles[10])"
   ]
  },
  {
   "cell_type": "code",
   "execution_count": 39,
   "metadata": {},
   "outputs": [
    {
     "name": "stdout",
     "output_type": "stream",
     "text": [
      "Model: \"sequential\"\n",
      "_________________________________________________________________\n",
      "Layer (type)                 Output Shape              Param #   \n",
      "=================================================================\n",
      "embedding (Embedding)        (None, None, 64)          320000    \n",
      "_________________________________________________________________\n",
      "bidirectional (Bidirectional (None, 128)               66048     \n",
      "_________________________________________________________________\n",
      "dense (Dense)                (None, 64)                8256      \n",
      "_________________________________________________________________\n",
      "dense_1 (Dense)              (None, 6)                 390       \n",
      "=================================================================\n",
      "Total params: 394,694\n",
      "Trainable params: 394,694\n",
      "Non-trainable params: 0\n",
      "_________________________________________________________________\n"
     ]
    }
   ],
   "source": [
    "model = tf.keras.Sequential([\n",
    "    tf.keras.layers.Embedding(vocab_size, embedding_dim),\n",
    "    tf.keras.layers.Bidirectional(tf.keras.layers.LSTM(embedding_dim)),\n",
    "    tf.keras.layers.Dense(embedding_dim, activation='relu'),\n",
    "    tf.keras.layers.Dense(6, activation='softmax')\n",
    "])\n",
    "model.summary()"
   ]
  },
  {
   "cell_type": "code",
   "execution_count": 40,
   "metadata": {},
   "outputs": [],
   "source": [
    "model.compile(loss='sparse_categorical_crossentropy', optimizer='adam', metrics=['accuracy'])"
   ]
  },
  {
   "cell_type": "code",
   "execution_count": 42,
   "metadata": {},
   "outputs": [
    {
     "name": "stdout",
     "output_type": "stream",
     "text": [
      "Epoch 1/10\n",
      "56/56 - 15s - loss: 1.5704 - accuracy: 0.2978 - val_loss: 1.3210 - val_accuracy: 0.3910\n",
      "Epoch 2/10\n",
      "56/56 - 8s - loss: 0.9866 - accuracy: 0.6382 - val_loss: 0.6981 - val_accuracy: 0.7596\n",
      "Epoch 3/10\n",
      "56/56 - 8s - loss: 0.3900 - accuracy: 0.8787 - val_loss: 0.3946 - val_accuracy: 0.8876\n",
      "Epoch 4/10\n",
      "56/56 - 8s - loss: 0.1610 - accuracy: 0.9573 - val_loss: 0.2525 - val_accuracy: 0.9371\n",
      "Epoch 5/10\n",
      "56/56 - 8s - loss: 0.0268 - accuracy: 0.9955 - val_loss: 0.2307 - val_accuracy: 0.9506\n",
      "Epoch 6/10\n",
      "56/56 - 8s - loss: 0.0119 - accuracy: 0.9983 - val_loss: 0.2584 - val_accuracy: 0.9371\n",
      "Epoch 7/10\n",
      "56/56 - 8s - loss: 0.0029 - accuracy: 1.0000 - val_loss: 0.2729 - val_accuracy: 0.9461\n",
      "Epoch 8/10\n",
      "56/56 - 8s - loss: 0.0014 - accuracy: 1.0000 - val_loss: 0.3038 - val_accuracy: 0.9393\n",
      "Epoch 9/10\n",
      "56/56 - 8s - loss: 9.0672e-04 - accuracy: 1.0000 - val_loss: 0.3074 - val_accuracy: 0.9393\n",
      "Epoch 10/10\n",
      "56/56 - 8s - loss: 6.5582e-04 - accuracy: 1.0000 - val_loss: 0.3083 - val_accuracy: 0.9461\n"
     ]
    }
   ],
   "source": [
    "num_epochs = 10\n",
    "history = model.fit(train_padded, training_label_seq, epochs=num_epochs, validation_data=(validation_padded, validation_label_seq), verbose=2)"
   ]
  },
  {
   "cell_type": "code",
   "execution_count": 44,
   "metadata": {},
   "outputs": [
    {
     "data": {
      "image/png": "[encoded data removed]",
      "text/plain": [
       "<Figure size 432x288 with 1 Axes>"
      ]
     },
     "metadata": {
      "needs_background": "light"
     },
     "output_type": "display_data"
    },
    {
     "data": {
      "image/png": "[encoded data removed]",
      "text/plain": [
       "<Figure size 432x288 with 1 Axes>"
      ]
     },
     "metadata": {
      "needs_background": "light"
     },
     "output_type": "display_data"
    }
   ],
   "source": [
    "from matplotlib import pyplot as plt\n",
    "def plot_graphs(history, string):\n",
    "    plt.plot(history.history[string])\n",
    "    plt.plot(history.history['val_'+string])\n",
    "    plt.xlabel(\"Epochs\")\n",
    "    plt.ylabel(string)\n",
    "    plt.legend([string, 'val_'+string])\n",
    "    plt.show()\n",
    "    \n",
    "plot_graphs(history, \"accuracy\")\n",
    "plot_graphs(history, \"loss\")"
   ]
  },
  {
   "cell_type": "code",
   "execution_count": 45,
   "metadata": {},
   "outputs": [
    {
     "data": {
      "text/plain": [
       "array([[1.6982556e-05, 9.9901462e-01, 1.1042271e-05, 5.6094653e-04,\n",
       "        3.9322462e-04, 3.1796669e-06]], dtype=float32)"
      ]
     },
     "execution_count": 45,
     "metadata": {},
     "output_type": "execute_result"
    }
   ],
   "source": [
    "txt = [\"A WeWork shareholder has taken the company to court over the near-$1.7bn (£1.3bn) leaving package approved for ousted co-founder Adam Neumann.\"]\n",
    "seq = tokenizer.texts_to_sequences(txt)\n",
    "padded = pad_sequences(seq,maxlen=max_length)\n",
    "pred = model.predict(padded)\n",
    "pred"
   ]
  },
  {
   "cell_type": "code",
   "execution_count": 46,
   "metadata": {},
   "outputs": [
    {
     "name": "stdout",
     "output_type": "stream",
     "text": [
      "[[1.6982556e-05 9.9901462e-01 1.1042271e-05 5.6094653e-04 3.9322462e-04\n",
      "  3.1796669e-06]] bussiness\n"
     ]
    }
   ],
   "source": [
    "txt = [\"A WeWork shareholder has taken the company to court over the near-$1.7bn (£1.3bn) leaving package approved for ousted co-founder Adam Neumann.\"]\n",
    "seq = tokenizer.texts_to_sequences(txt)\n",
    "pred = model.predict(padded)\n",
    "labels = ['sport','bussiness', 'politics','tech','entertainment','unknown']\n",
    "print(pred, labels[np.argmax(pred)])"
   ]
  },
  {
   "cell_type": "code",
   "execution_count": 47,
   "metadata": {},
   "outputs": [
    {
     "data": {
      "text/plain": [
       "1"
      ]
     },
     "execution_count": 47,
     "metadata": {},
     "output_type": "execute_result"
    }
   ],
   "source": [
    "np.argmax(pred)"
   ]
  },
  {
   "cell_type": "code",
   "execution_count": null,
   "metadata": {},
   "outputs": [],
   "source": []
  }
 ],
 "metadata": {
  "kernelspec": {
   "display_name": "Python 3",
   "language": "python",
   "name": "python3"
  },
  "language_info": {
   "codemirror_mode": {
    "name": "ipython",
    "version": 3
   },
   "file_extension": ".py",
   "mimetype": "text/x-python",
   "name": "python",
   "nbconvert_exporter": "python",
   "pygments_lexer": "ipython3",
   "version": "3.7.6"
  }
 },
 "nbformat": 4,
 "nbformat_minor": 4
}
